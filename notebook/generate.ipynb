{
 "cells": [
  {
   "cell_type": "code",
   "execution_count": 1,
   "metadata": {},
   "outputs": [],
   "source": [
    "import json\n",
    "import os\n",
    "from distutils.dir_util import copy_tree"
   ]
  },
  {
   "cell_type": "code",
   "execution_count": 2,
   "metadata": {},
   "outputs": [],
   "source": [
    "kernels={}"
   ]
  },
  {
   "cell_type": "code",
   "execution_count": 3,
   "metadata": {},
   "outputs": [],
   "source": [
    "kernels['SFT']=[]\n",
    "item={}\n",
    "item['STACKS']=['LCG_97a','LCG_97apython3']\n",
    "item['PLATFORMS']=['x86_64-centos7-gcc8-opt','x86_64-centos7-gcc9-opt']\n",
    "item['KERNELS']=['python','ir','octave','root']\n",
    "\n",
    "kernels['SFT'].append(item)\n",
    "\n",
    "item={}\n",
    "item['STACKS']=['LCG_96','LCG_96python3']\n",
    "item['PLATFORMS']=['x86_64-centos7-gcc8-opt']\n",
    "item['KERNELS']=['python','ir','octave','root']\n",
    "\n",
    "kernels['SFT'].append(item)\n",
    "\n",
    "item={}\n",
    "item['STACKS']=['LCG_95a','LCG_95apython3','LCG_95apython3_nxcals']\n",
    "item['PLATFORMS']=['x86_64-centos7-gcc7-opt']\n",
    "item['KERNELS']=['python','ir','octave','root']\n",
    "\n",
    "kernels['SFT'].append(item)\n",
    "\n",
    "item={}\n",
    "item['STACKS']=['LCG_95apython3_nxcals']\n",
    "item['PLATFORMS']=['x86_64-centos7-gcc7-opt']\n",
    "item['KERNELS']=['python','ir','octave','root','gophernotes']\n",
    "\n",
    "kernels['SFT'].append(item)\n",
    "\n",
    "kernels['CMS']=[]\n",
    "\n",
    "item={}\n",
    "item['PLATFORMS']=['slc7_amd64_gcc820']\n",
    "item['STACKS']=[\"CMSSW_11_1_1\",\"CMSSW_11_1_2\",\"CMSSW_11_1_3\",\"CMSSW_11_1_4\",\"CMSSW_11_1_5\"]\n",
    "item['KERNELS']=['python2','python3','root']\n",
    "kernels['CMS'].append(item)"
   ]
  },
  {
   "cell_type": "code",
   "execution_count": 4,
   "metadata": {},
   "outputs": [],
   "source": [
    "with open('swankernels/kernel.json','w') as f:\n",
    "        f.write(json.dumps(kernels))"
   ]
  },
  {
   "cell_type": "code",
   "execution_count": 5,
   "metadata": {},
   "outputs": [
    {
     "data": {
      "text/plain": [
       "{'SFT': [{'STACKS': ['LCG_97a', 'LCG_97apython3'],\n",
       "   'PLATFORMS': ['x86_64-centos7-gcc8-opt', 'x86_64-centos7-gcc9-opt'],\n",
       "   'KERNELS': ['python', 'ir', 'octave', 'root']},\n",
       "  {'STACKS': ['LCG_96', 'LCG_96python3'],\n",
       "   'PLATFORMS': ['x86_64-centos7-gcc8-opt'],\n",
       "   'KERNELS': ['python', 'ir', 'octave', 'root']},\n",
       "  {'STACKS': ['LCG_95a', 'LCG_95apython3', 'LCG_95apython3_nxcals'],\n",
       "   'PLATFORMS': ['x86_64-centos7-gcc7-opt'],\n",
       "   'KERNELS': ['python', 'ir', 'octave', 'root']},\n",
       "  {'STACKS': ['LCG_95apython3_nxcals'],\n",
       "   'PLATFORMS': ['x86_64-centos7-gcc7-opt'],\n",
       "   'KERNELS': ['python', 'ir', 'octave', 'root', 'gophernotes']}],\n",
       " 'CMS': [{'PLATFORMS': ['slc7_amd64_gcc820'],\n",
       "   'STACKS': ['CMSSW_11_1_1',\n",
       "    'CMSSW_11_1_2',\n",
       "    'CMSSW_11_1_3',\n",
       "    'CMSSW_11_1_4',\n",
       "    'CMSSW_11_1_5'],\n",
       "   'KERNELS': ['python2', 'python3', 'root']}]}"
      ]
     },
     "execution_count": 5,
     "metadata": {},
     "output_type": "execute_result"
    }
   ],
   "source": [
    "kernels"
   ]
  },
  {
   "cell_type": "code",
   "execution_count": 6,
   "metadata": {},
   "outputs": [],
   "source": [
    "def create_kernel_template(repo,stack,platform,kernel):\n",
    "    kernel_path=repo+\"_\"+stack+\"_\"+platform+\"_\"+kernel\n",
    "    generated_path=\"kernels/\"+kernel_path\n",
    "    template_path=\"templates/\"\n",
    "    if \"python\" in kernel:\n",
    "        template_path+=\"python\"\n",
    "    else:\n",
    "        template_path+=kernel\n",
    "        \n",
    "    os.makedirs(generated_path, exist_ok=True)\n",
    "    copy_tree(template_path,generated_path)\n",
    "    kernel_data=\"\"\n",
    "    with open(generated_path+'/kernel.json','r') as f:\n",
    "        kernel_data=f.read()\n",
    "        if repo == \"SFT\":#default for LCG is python2 unleast python3 is in the name \n",
    "            if \"python3\" in stack:\n",
    "                kernel_data = kernel_data.replace(\"#\",\"3\")\n",
    "            else:\n",
    "                kernel_data = kernel_data.replace(\"#\",\"2\")\n",
    "        \n",
    "        if repo == \"CMS\":\n",
    "            if \"python3\" == kernel: #usually python 2/3 are available in CMS with can set both\n",
    "                kernel_data = kernel_data.replace(\"#\",\"3\")\n",
    "            else:\n",
    "                kernel_data = kernel_data.replace(\"#\",\"2\")\n",
    "            \n",
    "        kernel_data = kernel_data.replace(\"REPO\",repo)\n",
    "        kernel_data = kernel_data.replace(\"STACK\",stack)\n",
    "        kernel_data = kernel_data.replace(\"PLATFORM\",platform)\n",
    "\n",
    "    with open(generated_path+'/kernel.json','w') as f:\n",
    "        f.write(kernel_data)\n",
    "            "
   ]
  },
  {
   "cell_type": "code",
   "execution_count": 7,
   "metadata": {},
   "outputs": [],
   "source": [
    "create_kernel_template(\"SFT\",\"LCG_97a\",\"x86_64-centos7-clang10\",\"python\")"
   ]
  },
  {
   "cell_type": "code",
   "execution_count": 8,
   "metadata": {},
   "outputs": [],
   "source": [
    "def create_kernel(data):\n",
    "    for repo in data.keys():\n",
    "        for item in data[repo]:\n",
    "            for stack in item['STACKS']:\n",
    "                kernel_path='sft_'+stack\n",
    "                for platform in item['PLATFORMS']:\n",
    "                    for kernel in item['KERNELS']:\n",
    "                        kernel_full=repo+\"_\"+stack+\"_\"+platform+\"_\"+kernel\n",
    "                        print(\"GENERATING = \"+kernel_full)\n",
    "                        create_kernel_template(repo,stack,platform,kernel)\n",
    "        "
   ]
  },
  {
   "cell_type": "code",
   "execution_count": 9,
   "metadata": {},
   "outputs": [
    {
     "name": "stdout",
     "output_type": "stream",
     "text": [
      "GENERATING = SFT_LCG_97a_x86_64-centos7-gcc8-opt_python\n",
      "GENERATING = SFT_LCG_97a_x86_64-centos7-gcc8-opt_ir\n",
      "GENERATING = SFT_LCG_97a_x86_64-centos7-gcc8-opt_octave\n",
      "GENERATING = SFT_LCG_97a_x86_64-centos7-gcc8-opt_root\n",
      "GENERATING = SFT_LCG_97a_x86_64-centos7-gcc9-opt_python\n",
      "GENERATING = SFT_LCG_97a_x86_64-centos7-gcc9-opt_ir\n",
      "GENERATING = SFT_LCG_97a_x86_64-centos7-gcc9-opt_octave\n",
      "GENERATING = SFT_LCG_97a_x86_64-centos7-gcc9-opt_root\n",
      "GENERATING = SFT_LCG_97apython3_x86_64-centos7-gcc8-opt_python\n",
      "GENERATING = SFT_LCG_97apython3_x86_64-centos7-gcc8-opt_ir\n",
      "GENERATING = SFT_LCG_97apython3_x86_64-centos7-gcc8-opt_octave\n",
      "GENERATING = SFT_LCG_97apython3_x86_64-centos7-gcc8-opt_root\n",
      "GENERATING = SFT_LCG_97apython3_x86_64-centos7-gcc9-opt_python\n",
      "GENERATING = SFT_LCG_97apython3_x86_64-centos7-gcc9-opt_ir\n",
      "GENERATING = SFT_LCG_97apython3_x86_64-centos7-gcc9-opt_octave\n",
      "GENERATING = SFT_LCG_97apython3_x86_64-centos7-gcc9-opt_root\n",
      "GENERATING = SFT_LCG_96_x86_64-centos7-gcc8-opt_python\n",
      "GENERATING = SFT_LCG_96_x86_64-centos7-gcc8-opt_ir\n",
      "GENERATING = SFT_LCG_96_x86_64-centos7-gcc8-opt_octave\n",
      "GENERATING = SFT_LCG_96_x86_64-centos7-gcc8-opt_root\n",
      "GENERATING = SFT_LCG_96python3_x86_64-centos7-gcc8-opt_python\n",
      "GENERATING = SFT_LCG_96python3_x86_64-centos7-gcc8-opt_ir\n",
      "GENERATING = SFT_LCG_96python3_x86_64-centos7-gcc8-opt_octave\n",
      "GENERATING = SFT_LCG_96python3_x86_64-centos7-gcc8-opt_root\n",
      "GENERATING = SFT_LCG_95a_x86_64-centos7-gcc7-opt_python\n",
      "GENERATING = SFT_LCG_95a_x86_64-centos7-gcc7-opt_ir\n",
      "GENERATING = SFT_LCG_95a_x86_64-centos7-gcc7-opt_octave\n",
      "GENERATING = SFT_LCG_95a_x86_64-centos7-gcc7-opt_root\n",
      "GENERATING = SFT_LCG_95apython3_x86_64-centos7-gcc7-opt_python\n",
      "GENERATING = SFT_LCG_95apython3_x86_64-centos7-gcc7-opt_ir\n",
      "GENERATING = SFT_LCG_95apython3_x86_64-centos7-gcc7-opt_octave\n",
      "GENERATING = SFT_LCG_95apython3_x86_64-centos7-gcc7-opt_root\n",
      "GENERATING = SFT_LCG_95apython3_nxcals_x86_64-centos7-gcc7-opt_python\n",
      "GENERATING = SFT_LCG_95apython3_nxcals_x86_64-centos7-gcc7-opt_ir\n",
      "GENERATING = SFT_LCG_95apython3_nxcals_x86_64-centos7-gcc7-opt_octave\n",
      "GENERATING = SFT_LCG_95apython3_nxcals_x86_64-centos7-gcc7-opt_root\n",
      "GENERATING = SFT_LCG_95apython3_nxcals_x86_64-centos7-gcc7-opt_python\n",
      "GENERATING = SFT_LCG_95apython3_nxcals_x86_64-centos7-gcc7-opt_ir\n",
      "GENERATING = SFT_LCG_95apython3_nxcals_x86_64-centos7-gcc7-opt_octave\n",
      "GENERATING = SFT_LCG_95apython3_nxcals_x86_64-centos7-gcc7-opt_root\n",
      "GENERATING = SFT_LCG_95apython3_nxcals_x86_64-centos7-gcc7-opt_gophernotes\n",
      "GENERATING = CMS_CMSSW_11_1_1_slc7_amd64_gcc820_python2\n",
      "GENERATING = CMS_CMSSW_11_1_1_slc7_amd64_gcc820_python3\n",
      "GENERATING = CMS_CMSSW_11_1_1_slc7_amd64_gcc820_root\n",
      "GENERATING = CMS_CMSSW_11_1_2_slc7_amd64_gcc820_python2\n",
      "GENERATING = CMS_CMSSW_11_1_2_slc7_amd64_gcc820_python3\n",
      "GENERATING = CMS_CMSSW_11_1_2_slc7_amd64_gcc820_root\n",
      "GENERATING = CMS_CMSSW_11_1_3_slc7_amd64_gcc820_python2\n",
      "GENERATING = CMS_CMSSW_11_1_3_slc7_amd64_gcc820_python3\n",
      "GENERATING = CMS_CMSSW_11_1_3_slc7_amd64_gcc820_root\n",
      "GENERATING = CMS_CMSSW_11_1_4_slc7_amd64_gcc820_python2\n",
      "GENERATING = CMS_CMSSW_11_1_4_slc7_amd64_gcc820_python3\n",
      "GENERATING = CMS_CMSSW_11_1_4_slc7_amd64_gcc820_root\n",
      "GENERATING = CMS_CMSSW_11_1_5_slc7_amd64_gcc820_python2\n",
      "GENERATING = CMS_CMSSW_11_1_5_slc7_amd64_gcc820_python3\n",
      "GENERATING = CMS_CMSSW_11_1_5_slc7_amd64_gcc820_root\n"
     ]
    }
   ],
   "source": [
    "create_kernel(kernels)"
   ]
  },
  {
   "cell_type": "code",
   "execution_count": null,
   "metadata": {},
   "outputs": [],
   "source": []
  }
 ],
 "metadata": {
  "kernelspec": {
   "display_name": "Python 3",
   "language": "python",
   "name": "python3"
  },
  "language_info": {
   "codemirror_mode": {
    "name": "ipython",
    "version": 3
   },
   "file_extension": ".py",
   "mimetype": "text/x-python",
   "name": "python",
   "nbconvert_exporter": "python",
   "pygments_lexer": "ipython3",
   "version": "3.9.0"
  }
 },
 "nbformat": 4,
 "nbformat_minor": 4
}
